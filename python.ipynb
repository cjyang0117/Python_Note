{
 "cells": [
  {
   "cell_type": "markdown",
   "id": "16575b00",
   "metadata": {},
   "source": [
    "## List"
   ]
  },
  {
   "cell_type": "code",
   "execution_count": 78,
   "id": "10d63802",
   "metadata": {},
   "outputs": [
    {
     "name": "stdout",
     "output_type": "stream",
     "text": [
      "list slices:\n",
      "x[:3] => [0, 1, 2]\n",
      "x[:-3] => [0, 1, 2, 3, 4, 5, 6]\n",
      "x[3:] => [3, 4, 5, 6, 7, 8, 9]\n",
      "x[-3:] => [7, 8, 9]\n",
      "x[1:3] => [1, 2]\n",
      "x[:] => [0, 1, 2, 3, 4, 5, 6, 7, 8, 9]\n",
      "x[1:6:2] [1, 3, 5]\n",
      "\n",
      "string slices:\n",
      "P y\n",
      "Pyt\n",
      "['P', 'y', 't', 'h', 'o', 'n']\n",
      "\n",
      "get:\n",
      "0 1 2\n",
      "0 [1, 2]\n",
      "[0, 1] 2\n",
      "\n",
      "delete:\n",
      "[0]\n"
     ]
    },
    {
     "ename": "NameError",
     "evalue": "name 'x' is not defined",
     "output_type": "error",
     "traceback": [
      "\u001b[0;31m---------------------------------------------------------------------------\u001b[0m",
      "\u001b[0;31mNameError\u001b[0m                                 Traceback (most recent call last)",
      "\u001b[0;32m<ipython-input-78-4bab56191b0d>\u001b[0m in \u001b[0;36m<module>\u001b[0;34m\u001b[0m\n\u001b[1;32m     39\u001b[0m \u001b[0mprint\u001b[0m\u001b[0;34m(\u001b[0m\u001b[0mx\u001b[0m\u001b[0;34m)\u001b[0m\u001b[0;34m\u001b[0m\u001b[0;34m\u001b[0m\u001b[0m\n\u001b[1;32m     40\u001b[0m \u001b[0;32mdel\u001b[0m \u001b[0mx\u001b[0m\u001b[0;34m\u001b[0m\u001b[0;34m\u001b[0m\u001b[0m\n\u001b[0;32m---> 41\u001b[0;31m \u001b[0mprint\u001b[0m\u001b[0;34m(\u001b[0m\u001b[0mx\u001b[0m\u001b[0;34m)\u001b[0m\u001b[0;34m\u001b[0m\u001b[0;34m\u001b[0m\u001b[0m\n\u001b[0m",
      "\u001b[0;31mNameError\u001b[0m: name 'x' is not defined"
     ]
    }
   ],
   "source": [
    "x = [0, 1, 2, 3, 4, 5, 6, 7, 8, 9]\n",
    "\n",
    "print('list slices:')\n",
    "print('x[:3] =>', x[:3])\n",
    "print('x[:-3] =>', x[:-3])\n",
    "print('x[3:] =>', x[3:])\n",
    "print('x[-3:] =>', x[-3:])\n",
    "print('x[1:3] =>', x[1:3])\n",
    "print('x[:] =>', x[:])\n",
    "print('x[1:6:2]', x[1:6:2])\n",
    "\n",
    "print()\n",
    "\n",
    "print('string slices:')\n",
    "string = 'Python'\n",
    "s1, s2, s3, s4, s5, s6 = string\n",
    "print(s1, s2)\n",
    "print(string[0:3])\n",
    "print(list(string))\n",
    "\n",
    "print()\n",
    "\n",
    "x = [0, 1, 2]\n",
    "\n",
    "print('get:')\n",
    "a, b, c = x\n",
    "print(a, b, c)\n",
    "\n",
    "a, *b = x\n",
    "print(a, b)\n",
    "\n",
    "*a, b = x\n",
    "print(a, b)\n",
    "\n",
    "print()\n",
    "\n",
    "print('delete:')\n",
    "del x[1:3]\n",
    "print(x)\n",
    "del x\n",
    "print(x)"
   ]
  },
  {
   "cell_type": "code",
   "execution_count": 69,
   "id": "48d9b519",
   "metadata": {},
   "outputs": [
    {
     "name": "stdout",
     "output_type": "stream",
     "text": [
      "add:\n",
      "['Toyota', 'Nissan', 'Honda', 'Audi', 'BMW']\n",
      "\n",
      "by:\n",
      "[1, 2, 3, 1, 2, 3, 1, 2, 3]\n",
      "[[], [], []]\n",
      "\n",
      "append:\n",
      "[1, 2, 3]\n",
      "\n",
      "insert:\n",
      "[1, 4, 2, 3]\n",
      "\n",
      "pop:\n",
      "5\n",
      "2\n",
      "[1, 3, 4]\n",
      "\n",
      "remove:\n",
      "['banana', 'apple']\n",
      "\n",
      "reverse:\n",
      "[3, 2, 1]\n",
      "[1, 2, 3]\n",
      "\n",
      "sorted:\n",
      "[2, 4, 5]\n",
      "[5, 4, 2]\n",
      "['ant', 'banana', 'city']\n",
      "\n",
      "index:\n",
      "1\n",
      "\n",
      "count:\n",
      "2\n",
      "0\n",
      "\n",
      "copy:\n",
      "[3] [3]\n",
      "[[], 4] [[]]\n",
      "[[5], 4] [[5]]\n",
      "[[3]] [[3]]\n",
      "\n",
      "deepcopy:\n",
      "[[5]] [[]]\n",
      "[[3]] [[3]]\n"
     ]
    }
   ],
   "source": [
    "print('add:')\n",
    "cars1 = ['Toyota', 'Nissan', 'Honda']\n",
    "cars2 = ['Audi', 'BMW']\n",
    "cars1 += cars2\n",
    "print(cars1)\n",
    "\n",
    "print()\n",
    "\n",
    "print('by:')\n",
    "x = [1, 2, 3]\n",
    "x *= 3\n",
    "print(x)\n",
    "\n",
    "x = 3*[[]]\n",
    "print(x)\n",
    "\n",
    "print()\n",
    "\n",
    "print('append:')\n",
    "x = [1, 2]\n",
    "x.append(3)\n",
    "print(x)\n",
    "\n",
    "print()\n",
    "\n",
    "print('insert:')\n",
    "x = [1, 2, 3]\n",
    "x.insert(1, 4)\n",
    "print(x)\n",
    "\n",
    "print()\n",
    "\n",
    "print('pop:')\n",
    "x = [1, 2, 3, 4, 5]\n",
    "value = x.pop()\n",
    "print(value)\n",
    "value = x.pop(1)\n",
    "print(value)\n",
    "print(x)\n",
    "\n",
    "print()\n",
    "\n",
    "print('remove:')\n",
    "x = ['apple', 'banana', 'apple']\n",
    "x.remove('apple') # 找不到會報錯\n",
    "print(x)\n",
    "\n",
    "print()\n",
    "\n",
    "print('reverse:')\n",
    "x = [1, 2, 3]\n",
    "x.reverse()\n",
    "print(x)\n",
    "print(x[::-1])\n",
    "\n",
    "print()\n",
    "\n",
    "print('sorted:')\n",
    "x = [5, 2, 4]\n",
    "y = ['banana', 'city', 'ant']\n",
    "print(sorted(x))\n",
    "print(sorted(x, reverse=True))\n",
    "print(sorted(y))\n",
    "\n",
    "print()\n",
    "\n",
    "print('index:')\n",
    "x = [1, 2, 3]\n",
    "idx = x.index(2) # 找不到會報錯\n",
    "print(idx)\n",
    "\n",
    "print()\n",
    "\n",
    "print('count:')\n",
    "x = [1, 2, 3, 2]\n",
    "y = x.count(2)\n",
    "print(y)\n",
    "y = x.count(4)\n",
    "print(y)\n",
    "\n",
    "print()\n",
    "\n",
    "print('copy:')\n",
    "a = b = [] # list 使用位址，使用上要注意\n",
    "a.append(3) # 直接操作內容，所以兩變數都會改變; a = b = 5 的狀況由於操作都是賦值 (=) 所以不會被影響\n",
    "print(a, b)\n",
    "\n",
    "a = [[]]\n",
    "b = a.copy()\n",
    "a.append(4)\n",
    "print(a, b)\n",
    "a[0].append(5) # shallow copy 無法複製子物件\n",
    "print(a, b)\n",
    "\n",
    "a = [[]]\n",
    "b = a[:] # shallow copy\n",
    "a[0].append(3)\n",
    "print(a, b)\n",
    "\n",
    "print()\n",
    "\n",
    "print('deepcopy:') # deep copy 父子物件皆是獨立物件，完全複製\n",
    "import copy\n",
    "a = [[]]\n",
    "b = copy.deepcopy(a)\n",
    "a[0].append(5)\n",
    "print(a, b)\n",
    "\n",
    "a = [[]]\n",
    "b = a[:]\n",
    "a[0].append(3)\n",
    "print(a, b)\n"
   ]
  },
  {
   "cell_type": "code",
   "execution_count": 105,
   "id": "f906a3fc",
   "metadata": {},
   "outputs": [
    {
     "name": "stdout",
     "output_type": "stream",
     "text": [
      "range:\n",
      "<class 'range'>\n",
      "range 5: [0, 1, 2, 3, 4]\n",
      "sum 0-4: 10\n",
      "\n",
      "[1, 2, 3]\n",
      "[1, 3, 5, 7, 9]\n"
     ]
    }
   ],
   "source": [
    "print('range:')\n",
    "x = range(5)\n",
    "print(type(x))\n",
    "print('range 5:', list(x))\n",
    "print('sum 0-4:', sum(x))\n",
    "\n",
    "print()\n",
    "\n",
    "print(list(range(1, 4)))\n",
    "print(list(range(1, 10, 2)))"
   ]
  },
  {
   "cell_type": "code",
   "execution_count": 117,
   "id": "b0e4efe2",
   "metadata": {},
   "outputs": [
    {
     "name": "stdout",
     "output_type": "stream",
     "text": [
      "list generator:\n",
      "[0, 1, 2, 3, 4, 5]\n",
      "[[0, 0], [0, 2], [0, 4], [1, 1], [1, 3], [2, 0], [2, 2], [2, 4], [3, 1], [3, 3], [4, 0], [4, 2], [4, 4]]\n"
     ]
    }
   ],
   "source": [
    "print('list generator:')\n",
    "x = [n for n in range(6)]\n",
    "print(x)\n",
    "x = [[a, b] for a in range(5) for b in range(5) if not (a + b) % 2] # 執行順序由左往右，不需加冒號\n",
    "print(x)"
   ]
  },
  {
   "cell_type": "code",
   "execution_count": 76,
   "id": "b569b4d0",
   "metadata": {},
   "outputs": [
    {
     "name": "stdout",
     "output_type": "stream",
     "text": [
      "max:\n",
      "9\n",
      "r\n",
      "\n",
      "min:\n",
      "0\n",
      "D\n",
      "\n",
      "sum:\n",
      "45\n",
      "\n",
      "len:\n",
      "10\n",
      "12\n"
     ]
    }
   ],
   "source": [
    "x = [0, 1, 2, 3, 4, 5, 6, 7, 8, 9]\n",
    "y = 'DeepLearning'\n",
    "\n",
    "print('max:')\n",
    "print(max(x))\n",
    "print(max(y))\n",
    "\n",
    "print()\n",
    "\n",
    "print('min:')\n",
    "print(min(x))\n",
    "print(min(y))\n",
    "\n",
    "print()\n",
    "\n",
    "print('sum:')\n",
    "print(sum(x))\n",
    "\n",
    "print()\n",
    "\n",
    "print('len:')\n",
    "print(len(x))\n",
    "print(len(y)) # 可用於 if 條件"
   ]
  },
  {
   "cell_type": "code",
   "execution_count": 86,
   "id": "8240c35c",
   "metadata": {},
   "outputs": [
    {
     "name": "stdout",
     "output_type": "stream",
     "text": [
      "split:\n",
      "['1', '2', '3']\n",
      "\n",
      "join:\n",
      "1, 2, 3\n",
      "\n",
      "find, index:\n",
      "4\n",
      "4\n",
      "\n",
      "count:\n",
      "2\n",
      "\n",
      "starts, endswith:\n",
      "False\n",
      "True\n",
      "\n",
      "replace:\n",
      "Deepapple mean Deepen your apple\n"
     ]
    }
   ],
   "source": [
    "print('split:')\n",
    "x = '1, 2, 3'\n",
    "print(x.split(', '))\n",
    "\n",
    "print()\n",
    "\n",
    "print('join:')\n",
    "x = ['1', '2', '3']\n",
    "print(', '.join(x))\n",
    "\n",
    "print()\n",
    "\n",
    "print('find, index:') # 從頭尋找子字串，rfind 從尾\n",
    "string = 'Deepmind mean Deepen your mind'\n",
    "s = 'mind'\n",
    "print(string.find(s)) # 與 index 不同的是找不到會返回 -1\n",
    "print(string.index(s))\n",
    "\n",
    "print()\n",
    "\n",
    "print('count:')\n",
    "print(string.count(s))\n",
    "\n",
    "print()\n",
    "\n",
    "print('starts, endswith:')\n",
    "string = 'Deepmind mean Deepen your mind'\n",
    "s = 'mind'\n",
    "print(string.startswith(s))\n",
    "print(string.endswith(s))\n",
    "\n",
    "print()\n",
    "\n",
    "print('replace:')\n",
    "print(string.replace('mind', 'apple'))"
   ]
  },
  {
   "cell_type": "markdown",
   "id": "0f11d4ab",
   "metadata": {},
   "source": [
    "## Tuple"
   ]
  },
  {
   "cell_type": "code",
   "execution_count": 122,
   "id": "cca889bc",
   "metadata": {},
   "outputs": [
    {
     "name": "stdout",
     "output_type": "stream",
     "text": [
      "(1,)\n",
      "(1, 2, 3)\n",
      "(1, 2, 3)\n",
      "list(x): [1, 2, 3]\n",
      "x[1]: 2\n",
      "1 [2, 3]\n"
     ]
    },
    {
     "ename": "TypeError",
     "evalue": "'tuple' object does not support item assignment",
     "output_type": "error",
     "traceback": [
      "\u001b[0;31m---------------------------------------------------------------------------\u001b[0m",
      "\u001b[0;31mTypeError\u001b[0m                                 Traceback (most recent call last)",
      "\u001b[0;32m<ipython-input-122-e75998749948>\u001b[0m in \u001b[0;36m<module>\u001b[0;34m\u001b[0m\n\u001b[1;32m     15\u001b[0m \u001b[0mprint\u001b[0m\u001b[0;34m(\u001b[0m\u001b[0ma\u001b[0m\u001b[0;34m,\u001b[0m \u001b[0mb\u001b[0m\u001b[0;34m)\u001b[0m\u001b[0;34m\u001b[0m\u001b[0;34m\u001b[0m\u001b[0m\n\u001b[1;32m     16\u001b[0m \u001b[0;34m\u001b[0m\u001b[0m\n\u001b[0;32m---> 17\u001b[0;31m \u001b[0mx\u001b[0m\u001b[0;34m[\u001b[0m\u001b[0;36m1\u001b[0m\u001b[0;34m]\u001b[0m \u001b[0;34m=\u001b[0m \u001b[0;36m5\u001b[0m \u001b[0;31m# 元素不可更改，需重新定義\u001b[0m\u001b[0;34m\u001b[0m\u001b[0;34m\u001b[0m\u001b[0m\n\u001b[0m",
      "\u001b[0;31mTypeError\u001b[0m: 'tuple' object does not support item assignment"
     ]
    }
   ],
   "source": [
    "x = (1,)\n",
    "print(x)\n",
    "\n",
    "x = (1, 2, 3,)\n",
    "print(x)\n",
    "\n",
    "x = 1, 2, 3\n",
    "print(x)\n",
    "\n",
    "print('list(x):', list(x))\n",
    "\n",
    "print('x[1]:', x[1])\n",
    "\n",
    "a, *b = x\n",
    "print(a, b)\n",
    "\n",
    "x[1] = 5 # 元素不可更改，需重新定義"
   ]
  },
  {
   "cell_type": "code",
   "execution_count": 151,
   "id": "b3063e95",
   "metadata": {},
   "outputs": [
    {
     "name": "stdout",
     "output_type": "stream",
     "text": [
      "zip:\n",
      "type(zip_data): <class 'zip'>\n",
      "list(zip_data): [('a', 1), ('b', 2)]\n",
      "unzip: ('a', 'b') (1, 2)\n"
     ]
    }
   ],
   "source": [
    "print('zip:')\n",
    "x = ['a', 'b', 'c']\n",
    "y = [1, 2]\n",
    "zip_data = zip(x, y) # 可組合更多資料\n",
    "print('type(zip_data):', type(zip_data))\n",
    "zip_data = list(zip_data)\n",
    "print('list(zip_data):', zip_data) # 若長度不一會以短的為主\n",
    "\n",
    "a, b = zip(*zip_data)\n",
    "print('unzip:', a, b)"
   ]
  },
  {
   "cell_type": "markdown",
   "id": "2c882b82",
   "metadata": {},
   "source": [
    "## Dict"
   ]
  },
  {
   "cell_type": "code",
   "execution_count": 201,
   "id": "d550f2ac",
   "metadata": {},
   "outputs": [
    {
     "name": "stdout",
     "output_type": "stream",
     "text": [
      "pop:\n",
      "watermelon 15\n",
      "apple does not exist\n",
      "\n",
      "popitem:\n",
      "('peach', 25)\n",
      "\n",
      "clear:\n",
      "{}\n",
      "\n",
      "len:\n",
      "3\n",
      "\n",
      "in:\n",
      "{'watermelon': 15, 'banana': 20, 'peach': 25, 'apple': 30}\n",
      "\n",
      "update:\n",
      "{'watermeon': 15, 'banana:': 20}\n",
      "{'watermeon': 15, 'banana:': 20}\n",
      "\n",
      "dict:\n",
      "{'a': 'b', 'c': 'd'}\n",
      "{'a': 'b', 'c': 'd'}\n",
      "{'a': 'b', 'c': 'd'}\n",
      "\n",
      "create dict:\n",
      "{'a': 0, 'b': 1, 'c': 2, 'd': 3, 'e': 4}\n",
      "\n",
      "items:\n",
      "dict_items([('watermelon', 15), ('banana', 20), ('peach', 25)])\n",
      "watermelon 15\n",
      "banana 20\n",
      "peach 25\n",
      "\n",
      "keys:\n",
      "dict_keys(['watermelon', 'banana', 'peach'])\n",
      "\n",
      "values:\n",
      "dict_values([15, 20, 25])\n",
      "\n",
      "sorted by keys:\n",
      "banana 20\n",
      "peach 25\n",
      "watermelon 15\n",
      "\n",
      "sorted by item:\n",
      "[('watermelon', 15), ('peach', 25), ('banana', 200)]\n",
      "\n",
      "fromkeys:\n",
      "{'name': None, 'city': None}\n",
      "{'name': 'Taipei', 'city': 'Taipei'}\n",
      "\n",
      "get:\n",
      "None\n",
      "\n",
      "setdefault:\n",
      "200 {'watermelon': 15, 'banana': 200, 'peach': 25}\n",
      "100 {'watermelon': 15, 'banana': 200, 'peach': 25, 'apple': 100}\n"
     ]
    }
   ],
   "source": [
    "print('pop:')\n",
    "fruits = {'watermelon': 15, 'banana':20, 'peach':25}\n",
    "value = fruits.pop('watermelon') # 必須指定 key\n",
    "print('watermelon', value)\n",
    "value = fruits.pop('apple', 'does not exist')\n",
    "print('apple', value)\n",
    "\n",
    "print()\n",
    "\n",
    "print('popitem:')\n",
    "fruits = {'watermelon': 15, 'banana':20, 'peach':25}\n",
    "value = fruits.popitem() # 無資料時會報錯\n",
    "print(value)\n",
    "\n",
    "print()\n",
    "\n",
    "print('clear:')\n",
    "fruits = {'watermelon': 15, 'banana':20, 'peach':25}\n",
    "fruits.clear()\n",
    "print(fruits)\n",
    "\n",
    "print()\n",
    "\n",
    "print('len:')\n",
    "fruits = {'watermelon': 15, 'banana':20, 'peach':25}\n",
    "print(len(fruits))\n",
    "\n",
    "print()\n",
    "\n",
    "print('in:')\n",
    "fruits = {'watermelon': 15, 'banana':20, 'peach':25}\n",
    "key = 'apple'\n",
    "if key not in fruits: fruits[key] = 30\n",
    "print(fruits)\n",
    "\n",
    "print()\n",
    "\n",
    "print('update:')\n",
    "x = {'watermeon': 15}\n",
    "y = {'banana:': 20}\n",
    "x.update(y) # 若有相同 key 會被第二個 dict 取代\n",
    "print(x)\n",
    "\n",
    "x = {'watermeon': 15}\n",
    "y = {'banana:': 20}\n",
    "print({**x, **y})\n",
    "\n",
    "print()\n",
    "\n",
    "print('dict:')\n",
    "x = [['a', 'b'], ['c', 'd'],]\n",
    "print(dict(x))\n",
    "x = [('a', 'b'), ('c', 'd'),]\n",
    "print(dict(x))\n",
    "x = ('ab', 'cd')\n",
    "print(dict(x))\n",
    "\n",
    "print()\n",
    "\n",
    "print('create dict:')\n",
    "print(dict(zip('abcde', range(5))))\n",
    "\n",
    "print()\n",
    "\n",
    "print('items:')\n",
    "fruits = {'watermelon': 15, 'banana':20, 'peach':25}\n",
    "print(fruits.items())\n",
    "for fruit, price in fruits.items():\n",
    "    print(fruit, price)\n",
    "\n",
    "print()\n",
    "\n",
    "print('keys:')\n",
    "fruits = {'watermelon': 15, 'banana':20, 'peach':25}\n",
    "print(fruits.keys())\n",
    "\n",
    "print()\n",
    "\n",
    "print('values:')\n",
    "fruits = {'watermelon': 15, 'banana':20, 'peach':25}\n",
    "print(fruits.values())\n",
    "\n",
    "print()\n",
    "\n",
    "print('sorted by keys:')\n",
    "fruits = {'watermelon': 15, 'banana':20, 'peach':25}\n",
    "for idx in sorted(fruits.keys()):\n",
    "    print(idx, fruits[idx])\n",
    "    \n",
    "print()\n",
    "\n",
    "print('sorted by item:')\n",
    "fruits = {'watermelon': 15, 'banana':200, 'peach':25}\n",
    "fruits = sorted(fruits.items(), key=lambda item:item[1])\n",
    "print(fruits)\n",
    "\n",
    "print()\n",
    "\n",
    "print('fromkeys:')\n",
    "keys = ['name', 'city']\n",
    "values = 'Taipei'\n",
    "cities = dict.fromkeys(keys)\n",
    "print(cities)\n",
    "cities = dict.fromkeys(keys, values) # the value for all keys\n",
    "print(cities)\n",
    "\n",
    "print()\n",
    "\n",
    "print('get:')\n",
    "fruits = {'watermelon': 15, 'banana':200, 'peach':25}\n",
    "print(fruits.get('apple', 'None'))\n",
    "\n",
    "print()\n",
    "\n",
    "print('setdefault:')\n",
    "fruits = {'watermelon': 15, 'banana':200, 'peach':25}\n",
    "value = fruits.setdefault('banana', 300)\n",
    "print(value, fruits)\n",
    "value = fruits.setdefault('apple', 100)\n",
    "print(value, fruits)"
   ]
  },
  {
   "cell_type": "markdown",
   "id": "09a4be07",
   "metadata": {},
   "source": [
    "## Set"
   ]
  },
  {
   "cell_type": "code",
   "execution_count": 210,
   "id": "f873c8c2",
   "metadata": {},
   "outputs": [
    {
     "name": "stdout",
     "output_type": "stream",
     "text": [
      "set:\n",
      "<class 'set'>\n",
      "{1, 2, 3, '123'}\n",
      "{'D', 'e', 'p', 'n', 'm', 'd', 'i'}\n",
      "{'Python', 'C', 'Java'}\n",
      "\n",
      "len:\n",
      "3\n",
      "\n",
      "empty set:\n",
      "<class 'dict'>\n",
      "<class 'set'>\n",
      "\n",
      "remove duplicate:\n",
      "['orange', 'apple']\n"
     ]
    }
   ],
   "source": [
    "print('set:')\n",
    "x = {1, 2, 3, '123'}\n",
    "print(type(x))\n",
    "print(x)\n",
    "\n",
    "x = set('Deepmind')\n",
    "print(x)\n",
    "\n",
    "x = set(['Java', 'C', 'Python'])\n",
    "print(x)\n",
    "\n",
    "print()\n",
    "\n",
    "print('len:')\n",
    "x = {1, 2, 3}\n",
    "print(len(x))\n",
    "\n",
    "print()\n",
    "\n",
    "print('empty set:')\n",
    "x = {}\n",
    "print(type(x))\n",
    "x = set()\n",
    "print(type(x))\n",
    "\n",
    "print()\n",
    "\n",
    "print('remove duplicate:')\n",
    "x = ['apple', 'orange', 'apple']\n",
    "x = set(x)\n",
    "x = list(x)\n",
    "print(x)"
   ]
  },
  {
   "cell_type": "code",
   "execution_count": 218,
   "id": "d840a6d5",
   "metadata": {},
   "outputs": [
    {
     "name": "stdout",
     "output_type": "stream",
     "text": [
      "intersection:\n",
      "{'Peter'}\n",
      "{'Peter'}\n",
      "\n",
      "union:\n",
      "{'Tom', 'Peter', 'Eric', 'Nelson', 'Kevin'}\n",
      "{'Tom', 'Peter', 'Eric', 'Nelson', 'Kevin'}\n",
      "\n",
      "difference:\n",
      "{'Kevin', 'Eric'}\n",
      "{'Kevin', 'Eric'}\n",
      "\n",
      "symmetric difference\n",
      "{'Nelson', 'Kevin', 'Eric', 'Tom'}\n",
      "{'Nelson', 'Kevin', 'Eric', 'Tom'}\n"
     ]
    }
   ],
   "source": [
    "# & 交集\n",
    "# A n B\n",
    "print('intersection:')\n",
    "math = {'Kevin', 'Peter', 'Eric'}\n",
    "physics = {'Peter', 'Nelson', 'Tom'}\n",
    "print(math & physics)\n",
    "print(math.intersection(physics))\n",
    "\n",
    "print()\n",
    "\n",
    "# | 聯集\n",
    "# A U B\n",
    "print('union:')\n",
    "math = {'Kevin', 'Peter', 'Eric'}\n",
    "physics = {'Peter', 'Nelson', 'Tom'}\n",
    "print(math | physics)\n",
    "print(math.union(physics))\n",
    "\n",
    "print()\n",
    "\n",
    "# - 差集\n",
    "print('difference:')\n",
    "math = {'Kevin', 'Peter', 'Eric'}\n",
    "physics = {'Peter', 'Nelson', 'Tom'}\n",
    "print(math - physics)\n",
    "print(math.difference(physics))\n",
    "\n",
    "print()\n",
    "\n",
    "# ^ 對稱差集\n",
    "print('symmetric difference')\n",
    "math = {'Kevin', 'Peter', 'Eric'}\n",
    "physics = {'Peter', 'Nelson', 'Tom'}\n",
    "print(math ^ physics)\n",
    "print(math.symmetric_difference(physics))"
   ]
  },
  {
   "cell_type": "code",
   "execution_count": 223,
   "id": "33aa38ff",
   "metadata": {},
   "outputs": [
    {
     "name": "stdout",
     "output_type": "stream",
     "text": [
      "==:\n",
      "True\n",
      "\n",
      "!=:\n",
      "False\n",
      "\n",
      "in, not in:\n",
      "True\n",
      "False\n"
     ]
    }
   ],
   "source": [
    "print('==:')\n",
    "A = {1, 2, 3}\n",
    "B = {1, 2, 3}\n",
    "print(A == B)\n",
    "\n",
    "print()\n",
    "\n",
    "print('!=:')\n",
    "A = {1, 2, 3}\n",
    "B = {1, 2, 3}\n",
    "print(A != B)\n",
    "\n",
    "print()\n",
    "\n",
    "print('in, not in:')\n",
    "A = {1, 2, 3}\n",
    "print(1 in A)\n",
    "print(1 not in A)"
   ]
  },
  {
   "cell_type": "code",
   "execution_count": 238,
   "id": "bf41e80a",
   "metadata": {},
   "outputs": [
    {
     "name": "stdout",
     "output_type": "stream",
     "text": [
      "add:\n",
      "{1, 2, 4}\n",
      "{1, 2, 4, (3, 4)}\n",
      "\n",
      "remove, discard:\n",
      "{2}\n",
      "\n",
      "pop:\n",
      "{'dog', 'bird'} cat\n",
      "\n",
      "clear:\n",
      "set()\n",
      "\n",
      "isdisjoint:\n",
      "True\n",
      "False\n",
      "\n",
      "issusbset, issuperset:\n",
      "True\n",
      "True\n",
      "\n",
      "intersection_update:\n",
      "{2}\n",
      "\n",
      "update:\n",
      "{1, 2, 3, 4}\n"
     ]
    }
   ],
   "source": [
    "print('add:')\n",
    "A = {1, 2}\n",
    "B = (3, 4)\n",
    "A.add(4)\n",
    "print(A)\n",
    "A.add(B)\n",
    "print(A)\n",
    "\n",
    "print()\n",
    "\n",
    "print('remove, discard:')\n",
    "A = {1, 2}\n",
    "A.remove(1) # 不存在會報錯\n",
    "A.discard(3) # 不存在不會報錯\n",
    "print(A)\n",
    "\n",
    "print()\n",
    "\n",
    "print('pop:')\n",
    "animals = {'dog', 'cat', 'bird'}\n",
    "animal = animals.pop() # 隨機取出\n",
    "print(animals, animal)\n",
    "\n",
    "print()\n",
    "\n",
    "print('clear:')\n",
    "animals = {'dog', 'cat', 'bird'}\n",
    "animals.clear()\n",
    "print(animals)\n",
    "\n",
    "print()\n",
    "\n",
    "print('isdisjoint:')\n",
    "x = {1, 2}\n",
    "y = {3, 4}\n",
    "z = {2, 6}\n",
    "print(x.isdisjoint(y))\n",
    "print(x.isdisjoint(z))\n",
    "\n",
    "print()\n",
    "\n",
    "print('issusbset, issuperset:')\n",
    "x = {1, 2, 3, 4}\n",
    "y = {1, 2}\n",
    "print(y.issubset(x))\n",
    "print(x.issuperset(y))\n",
    "\n",
    "print()\n",
    "\n",
    "print('intersection_update:')\n",
    "x = {1, 2}\n",
    "y = {2, 3}\n",
    "z = {2, 4}\n",
    "x.intersection_update(y, z)\n",
    "print(x)\n",
    "\n",
    "print()\n",
    "\n",
    "print('update:')\n",
    "x = {1, 2}\n",
    "y = {3, 4}\n",
    "x.update(y)\n",
    "print(x)"
   ]
  },
  {
   "cell_type": "markdown",
   "id": "07b919ab",
   "metadata": {},
   "source": [
    "## is, is not"
   ]
  },
  {
   "cell_type": "code",
   "execution_count": 96,
   "id": "c5b99497",
   "metadata": {},
   "outputs": [
    {
     "name": "stdout",
     "output_type": "stream",
     "text": [
      "4411538048 4411538048\n",
      "x is y: True\n",
      "x is not z: True\n",
      "x is r: True\n"
     ]
    }
   ],
   "source": [
    "# 用於比較兩物件是否相同，相同指的是物件變數指向相同記憶體\n",
    "x = 10\n",
    "y = 10\n",
    "z = 15\n",
    "r = z - 5\n",
    "\n",
    "print(id(x), id(y)) # 相同內容的字串、整數、浮點數會指向相同記憶體位置\n",
    "print('x is y:', x is y)\n",
    "print('x is not z:', x is not z)\n",
    "print('x is r:', x is r)"
   ]
  },
  {
   "cell_type": "code",
   "execution_count": 98,
   "id": "326745c1",
   "metadata": {},
   "outputs": [
    {
     "name": "stdout",
     "output_type": "stream",
     "text": [
      "mysports id: 140651010846848\n",
      "sports1 id: 140651010846848\n",
      "sports2 id: 140651010765056\n",
      "sports1 is sports2 False\n"
     ]
    }
   ],
   "source": [
    "# 複製後串列會指向不同記憶體位置\n",
    "mysports = ['basketball', 'baseball']\n",
    "sports1 = mysports\n",
    "sports2 = mysports[:]\n",
    "\n",
    "print('mysports id:', id(mysports))\n",
    "print('sports1 id:', id(sports1))\n",
    "print('sports2 id:', id(sports2))\n",
    "print('sports1 is sports2', sports1 is sports2)"
   ]
  },
  {
   "cell_type": "markdown",
   "id": "b0d97dc0",
   "metadata": {},
   "source": [
    "## for ... else"
   ]
  },
  {
   "cell_type": "code",
   "execution_count": 115,
   "id": "806e11dd",
   "metadata": {},
   "outputs": [
    {
     "name": "stdout",
     "output_type": "stream",
     "text": [
      "0\n",
      "1\n",
      "2\n",
      "3\n",
      "4\n",
      "end\n"
     ]
    }
   ],
   "source": [
    "# 最後一次迴圈後執行\n",
    "for i in range(5):\n",
    "    print(i)\n",
    "else:\n",
    "    print('end')"
   ]
  },
  {
   "cell_type": "markdown",
   "id": "0fbcec0d",
   "metadata": {},
   "source": [
    "## try"
   ]
  },
  {
   "cell_type": "code",
   "execution_count": 1,
   "id": "cd6efade",
   "metadata": {},
   "outputs": [
    {
     "ename": "ZeroDivisionError",
     "evalue": "division by zero",
     "output_type": "error",
     "traceback": [
      "\u001b[0;31m---------------------------------------------------------------------------\u001b[0m",
      "\u001b[0;31mZeroDivisionError\u001b[0m                         Traceback (most recent call last)",
      "\u001b[0;32m<ipython-input-1-08f9849cef92>\u001b[0m in \u001b[0;36m<module>\u001b[0;34m\u001b[0m\n\u001b[1;32m     15\u001b[0m \u001b[0;34m\u001b[0m\u001b[0m\n\u001b[1;32m     16\u001b[0m \u001b[0;31m# 錯誤碼最後一列會顯示異常類型\u001b[0m\u001b[0;34m\u001b[0m\u001b[0;34m\u001b[0m\u001b[0;34m\u001b[0m\u001b[0m\n\u001b[0;32m---> 17\u001b[0;31m \u001b[0mprint\u001b[0m\u001b[0;34m(\u001b[0m\u001b[0;36m5\u001b[0m\u001b[0;34m/\u001b[0m\u001b[0;36m0\u001b[0m\u001b[0;34m)\u001b[0m\u001b[0;34m\u001b[0m\u001b[0;34m\u001b[0m\u001b[0m\n\u001b[0m",
      "\u001b[0;31mZeroDivisionError\u001b[0m: division by zero"
     ]
    }
   ],
   "source": [
    "# 常見異常\n",
    "# Exception: 一般錯誤皆可使用\n",
    "# AttributeError: 物件沒有這個屬性\n",
    "# FileNotFoundError: 找不到檔案\n",
    "# IOError: 輸入或輸出時發生錯誤\n",
    "# IndexError: 索引值超出範圍\n",
    "# KeyError: 差無鍵值\n",
    "# MemmoryError: 需求記憶體超出範圍\n",
    "# NameError: 物件名稱為宣告\n",
    "# SyntaxError: 語法錯誤\n",
    "# SystemError: 直譯器系統錯誤\n",
    "# TypeError: 資料型別錯誤\n",
    "# ValueError: 傳入無效參數\n",
    "# ZeroDivisionError: 除數為 0\n",
    "\n",
    "# 錯誤碼最後一列會顯示異常類型\n",
    "# <XXError>: ...\n",
    "print(5/0)"
   ]
  },
  {
   "cell_type": "code",
   "execution_count": 11,
   "id": "ab4f54e8",
   "metadata": {},
   "outputs": [
    {
     "name": "stdout",
     "output_type": "stream",
     "text": [
      "找不到檔案\n",
      "\n",
      "[Errno 2] No such file or directory: 'ch1.txt'\n",
      "\n",
      "Traceback (most recent call last):\n",
      "  File \"<ipython-input-11-b9ebfa3d3e04>\", line 7, in <module>\n",
      "    with open('ch1.txt') as fn:\n",
      "FileNotFoundError: [Errno 2] No such file or directory: 'ch1.txt'\n",
      "\n",
      "\n",
      "一定會執行\n"
     ]
    }
   ],
   "source": [
    "# except 可以設多個，也可以一個 except 包含多種錯誤（以逗號隔開）\n",
    "# 若 except 不指定異常物件，表示捕捉所有異常\n",
    "\n",
    "import traceback\n",
    "\n",
    "try:\n",
    "    with open('ch1.txt') as fn:\n",
    "        data = fn.read()\n",
    "except FileNotFoundError as e:\n",
    "    print('找不到檔案', end='\\n\\n')\n",
    "    print(e, end='\\n\\n')\n",
    "    print(traceback.format_exc(), end='\\n\\n')\n",
    "else:\n",
    "    print(data)\n",
    "finally:\n",
    "    print('一定會執行')"
   ]
  },
  {
   "cell_type": "code",
   "execution_count": 7,
   "id": "66a1cff9",
   "metadata": {},
   "outputs": [
    {
     "name": "stdout",
     "output_type": "stream",
     "text": [
      "密碼長度太長\n",
      "密碼長度不足\n",
      "密碼長度正確\n"
     ]
    }
   ],
   "source": [
    "def pass_word(pwd):\n",
    "    pwd_len = len(pwd)\n",
    "    if pwd_len < 5:\n",
    "        raise Exception('密碼長度不足')\n",
    "    elif pwd_len > 8:\n",
    "        raise Exception('密碼長度太長')\n",
    "    print('密碼長度正確')\n",
    "\n",
    "for pwd in ('aaabbbccc', 'aaa', 'aaabbb'):\n",
    "    try:\n",
    "        pass_word(pwd)\n",
    "    except Exception as err:\n",
    "        print(err)"
   ]
  },
  {
   "cell_type": "markdown",
   "id": "94e72284",
   "metadata": {},
   "source": [
    "## one line if"
   ]
  },
  {
   "cell_type": "code",
   "execution_count": 240,
   "id": "5d2bd852",
   "metadata": {},
   "outputs": [
    {
     "name": "stdout",
     "output_type": "stream",
     "text": [
      "0\n"
     ]
    }
   ],
   "source": [
    "a = 3\n",
    "print(10 if a > 10 else 0)"
   ]
  },
  {
   "cell_type": "markdown",
   "id": "2f0415c0",
   "metadata": {},
   "source": [
    "## Logging\n",
    "\n",
    "logging level\n",
    "- DEBUG, logging.debug(): 程式的小細節，追蹤變數變化的過程\n",
    "- INFO, logging.info(): 記錄程式一般發生的事件\n",
    "- WARNING, logging.warning(): 未來可能會發生問題的內容\n",
    "- ERROR, logging.error(): 程式引發錯誤的原因\n",
    "- CRITICAL, logging.critical(): 讓整個系統當機或中斷的錯誤"
   ]
  },
  {
   "cell_type": "code",
   "execution_count": 21,
   "id": "7773c773",
   "metadata": {},
   "outputs": [
    {
     "name": "stderr",
     "output_type": "stream",
     "text": [
      "2022-11-08 16:35:41,396 [INFO] (__main__) info test\n",
      "2022-11-08 16:35:41,397 [WARNING] (__main__) warning test\n",
      "2022-11-08 16:35:41,398 [ERROR] (__main__) error test\n",
      "2022-11-08 16:35:41,399 [CRITICAL] (__main__) critical test\n"
     ]
    }
   ],
   "source": [
    "import logging\n",
    "\n",
    "# django 可以放在 settings.py\n",
    "# 輸出只有在 py 檔有效 filename='logs.log'\n",
    "logging.basicConfig(filename='logs.log',\n",
    "                format='%(asctime)s,%(msecs)d [%(levelname)s] (%(name)s) %(message)s',\n",
    "                datefmt='%Y-%m-%d %H:%M:%S',\n",
    "                level='INFO')\n",
    "\n",
    "# django 可以放在 view.py\n",
    "logger = logging.getLogger(__name__)\n",
    "\n",
    "logger.debug('debug test')\n",
    "logger.info('info test')\n",
    "logger.warning('warning test')\n",
    "logger.error('error test')\n",
    "logger.critical('critical test')"
   ]
  },
  {
   "cell_type": "markdown",
   "id": "845d48c1",
   "metadata": {},
   "source": [
    "## Common Function and Module"
   ]
  },
  {
   "cell_type": "code",
   "execution_count": 1,
   "id": "59e2ffdf",
   "metadata": {},
   "outputs": [
    {
     "name": "stdout",
     "output_type": "stream",
     "text": [
      "help:\n",
      "Help on built-in function print in module builtins:\n",
      "\n",
      "print(...)\n",
      "    print(value, ..., sep=' ', end='\\n', file=sys.stdout, flush=False)\n",
      "    \n",
      "    Prints the values to a stream, or to sys.stdout by default.\n",
      "    Optional keyword arguments:\n",
      "    file:  a file-like object (stream); defaults to the current sys.stdout.\n",
      "    sep:   string inserted between values, default a space.\n",
      "    end:   string appended after the last value, default a newline.\n",
      "    flush: whether to forcibly flush the stream.\n",
      "\n",
      "\n",
      "dir:\n",
      "['In', 'Out', '_', '__', '___', '__builtin__', '__builtins__', '__doc__', '__loader__', '__name__', '__package__', '__spec__', '_dh', '_i', '_i1', '_ih', '_ii', '_iii', '_oh', 'exit', 'get_ipython', 'quit']\n",
      "\n",
      "['ArithmeticError', 'AssertionError', 'AttributeError', 'BaseException', 'BlockingIOError', 'BrokenPipeError', 'BufferError', 'BytesWarning', 'ChildProcessError', 'ConnectionAbortedError', 'ConnectionError', 'ConnectionRefusedError', 'ConnectionResetError', 'DeprecationWarning', 'EOFError', 'Ellipsis', 'EnvironmentError', 'Exception', 'False', 'FileExistsError', 'FileNotFoundError', 'FloatingPointError', 'FutureWarning', 'GeneratorExit', 'IOError', 'ImportError', 'ImportWarning', 'IndentationError', 'IndexError', 'InterruptedError', 'IsADirectoryError', 'KeyError', 'KeyboardInterrupt', 'LookupError', 'MemoryError', 'ModuleNotFoundError', 'NameError', 'None', 'NotADirectoryError', 'NotImplemented', 'NotImplementedError', 'OSError', 'OverflowError', 'PendingDeprecationWarning', 'PermissionError', 'ProcessLookupError', 'RecursionError', 'ReferenceError', 'ResourceWarning', 'RuntimeError', 'RuntimeWarning', 'StopAsyncIteration', 'StopIteration', 'SyntaxError', 'SyntaxWarning', 'SystemError', 'SystemExit', 'TabError', 'TimeoutError', 'True', 'TypeError', 'UnboundLocalError', 'UnicodeDecodeError', 'UnicodeEncodeError', 'UnicodeError', 'UnicodeTranslateError', 'UnicodeWarning', 'UserWarning', 'ValueError', 'Warning', 'ZeroDivisionError', '__IPYTHON__', '__build_class__', '__debug__', '__doc__', '__import__', '__loader__', '__name__', '__package__', '__spec__', 'abs', 'all', 'any', 'ascii', 'bin', 'bool', 'breakpoint', 'bytearray', 'bytes', 'callable', 'chr', 'classmethod', 'compile', 'complex', 'copyright', 'credits', 'delattr', 'dict', 'dir', 'display', 'divmod', 'enumerate', 'eval', 'exec', 'filter', 'float', 'format', 'frozenset', 'get_ipython', 'getattr', 'globals', 'hasattr', 'hash', 'help', 'hex', 'id', 'input', 'int', 'isinstance', 'issubclass', 'iter', 'len', 'license', 'list', 'locals', 'map', 'max', 'memoryview', 'min', 'next', 'object', 'oct', 'open', 'ord', 'pow', 'print', 'property', 'range', 'repr', 'reversed', 'round', 'set', 'setattr', 'slice', 'sorted', 'staticmethod', 'str', 'sum', 'super', 'tuple', 'type', 'vars', 'zip']\n",
      "\n",
      "['__add__', '__class__', '__contains__', '__delattr__', '__dir__', '__doc__', '__eq__', '__format__', '__ge__', '__getattribute__', '__getitem__', '__getnewargs__', '__gt__', '__hash__', '__init__', '__init_subclass__', '__iter__', '__le__', '__len__', '__lt__', '__mod__', '__mul__', '__ne__', '__new__', '__reduce__', '__reduce_ex__', '__repr__', '__rmod__', '__rmul__', '__setattr__', '__sizeof__', '__str__', '__subclasshook__', 'capitalize', 'casefold', 'center', 'count', 'encode', 'endswith', 'expandtabs', 'find', 'format', 'format_map', 'index', 'isalnum', 'isalpha', 'isascii', 'isdecimal', 'isdigit', 'isidentifier', 'islower', 'isnumeric', 'isprintable', 'isspace', 'istitle', 'isupper', 'join', 'ljust', 'lower', 'lstrip', 'maketrans', 'partition', 'replace', 'rfind', 'rindex', 'rjust', 'rpartition', 'rsplit', 'rstrip', 'split', 'splitlines', 'startswith', 'strip', 'swapcase', 'title', 'translate', 'upper', 'zfill']\n",
      "\n",
      "['__add__', '__class__', '__contains__', '__delattr__', '__delitem__', '__dir__', '__doc__', '__eq__', '__format__', '__ge__', '__getattribute__', '__getitem__', '__gt__', '__hash__', '__iadd__', '__imul__', '__init__', '__init_subclass__', '__iter__', '__le__', '__len__', '__lt__', '__mul__', '__ne__', '__new__', '__reduce__', '__reduce_ex__', '__repr__', '__reversed__', '__rmul__', '__setattr__', '__setitem__', '__sizeof__', '__str__', '__subclasshook__', 'append', 'clear', 'copy', 'count', 'extend', 'index', 'insert', 'pop', 'remove', 'reverse', 'sort']\n",
      "\n",
      "print:\n",
      "aaa $$$ bbb\n",
      "!!!"
     ]
    }
   ],
   "source": [
    "print('help:')\n",
    "help(print)\n",
    "\n",
    "print()\n",
    "\n",
    "print('dir:')\n",
    "print(dir())\n",
    "print()\n",
    "print(dir(__builtins__))\n",
    "print()\n",
    "string = 'abc'\n",
    "print(dir(string))\n",
    "print()\n",
    "print(dir([]))\n",
    "\n",
    "print()\n",
    "\n",
    "print('print:')\n",
    "b = 'bbb'\n",
    "print('aaa', b, sep=' $$$ ', end='\\n!!!')"
   ]
  },
  {
   "cell_type": "code",
   "execution_count": 43,
   "id": "c5b98778",
   "metadata": {},
   "outputs": [
    {
     "name": "stdout",
     "output_type": "stream",
     "text": [
      "input:\n",
      "prompt: 123\n",
      "\n",
      "read and write:\n",
      "test1\n",
      "test2\n",
      "\n",
      "['test1\\n', 'test2']\n"
     ]
    }
   ],
   "source": [
    "print('input:')\n",
    "value = input('prompt: ') # str type\n",
    "\n",
    "print()\n",
    "\n",
    "print('read and write:')\n",
    "# mode\n",
    "# r: 讀檔\n",
    "# rb: 讀取二進位檔案\n",
    "# w: 寫檔並覆蓋\n",
    "# wb: 寫入二進位檔案\n",
    "# a: 寫檔並附加\n",
    "# x: 寫檔，若檔案存在會產生錯誤\n",
    "fstream1 = open('./test.txt', mode='w')\n",
    "print('test1', file=fstream1)\n",
    "fstream1.write('test2')\n",
    "fstream1.close()\n",
    "\n",
    "# 讀取還有 encoding 參數\n",
    "# ='cp950', ='utf-8', ='utf-8-sig'\n",
    "with open('./test.txt') as fn: # 使用 with 執行完後自動關閉檔案\n",
    "    for row in fn:\n",
    "        print(row.rstrip()) # 去除 print 和 文字檔的換行符號\n",
    "        \n",
    "print()\n",
    "\n",
    "with open('./test.txt') as fn: # 先讀取完，後續再處理\n",
    "    datas = fn.readlines()\n",
    "print(datas)"
   ]
  },
  {
   "cell_type": "code",
   "execution_count": 147,
   "id": "e7eb6307",
   "metadata": {},
   "outputs": [
    {
     "name": "stdout",
     "output_type": "stream",
     "text": [
      "encode:\n",
      "12\n",
      "b'\\xe7\\xa8\\x8b\\xe5\\xbc\\x8f\\xe8\\xaa\\x9e\\xe8\\xa8\\x80'\n",
      "\n",
      "decode:\n",
      "4\n",
      "程式語言\n"
     ]
    }
   ],
   "source": [
    "print('encode:')\n",
    "name = '程式語言'\n",
    "name_bytes = name.encode('utf-8') # utf-8, ascii, unicode-escape...\n",
    "print(len(name_bytes))\n",
    "print(name_bytes) # bytes type\n",
    "\n",
    "print()\n",
    "\n",
    "print('decode:')\n",
    "name_decode = name_bytes.decode('utf-8')\n",
    "print(len(name_decode))\n",
    "print(name_decode)"
   ]
  },
  {
   "cell_type": "code",
   "execution_count": 5,
   "id": "111e0044",
   "metadata": {},
   "outputs": [
    {
     "name": "stdout",
     "output_type": "stream",
     "text": [
      "base64 encode:\n",
      "UHl0aG9uIGlzIGZ1bg==\n",
      "\n",
      "base64 decode:\n",
      "Python is fun\n"
     ]
    }
   ],
   "source": [
    "import base64\n",
    "\n",
    "print('base64 encode:')\n",
    "# bytes (ascii) data\n",
    "data = \"Python is fun\"\n",
    "data_bytes = data.encode('ascii')\n",
    "# could be file\n",
    "# data = open('path/to/pic.jpg', 'rb')\n",
    "# data_bytes = data.read() # bytes data\n",
    "\n",
    "base64_bytes = base64.b64encode(data_bytes)\n",
    "base64_string = base64_bytes.decode('ascii')\n",
    "print(base64_string)\n",
    "\n",
    "print()\n",
    "\n",
    "print('base64 decode:')\n",
    "base64_string = 'UHl0aG9uIGlzIGZ1bg=='\n",
    "base64_bytes = base64_string.encode('ascii')\n",
    "\n",
    "data_bytes = base64.b64decode(base64_bytes)\n",
    "# you don't need to convert the decoding result to string if processing a file\n",
    "data = data_bytes.decode('ascii')\n",
    "print(data)"
   ]
  },
  {
   "cell_type": "code",
   "execution_count": 33,
   "id": "4beb9380",
   "metadata": {},
   "outputs": [
    {
     "name": "stdout",
     "output_type": "stream",
     "text": [
      "abs:\n",
      "1\n",
      "1\n",
      "\n",
      "round:\n",
      "1.0\n",
      "1.1\n",
      "\n",
      "max and min:\n",
      "2\n",
      "1\n"
     ]
    }
   ],
   "source": [
    "print('abs:')\n",
    "print(abs(-1))\n",
    "print(abs(1))\n",
    "\n",
    "print()\n",
    "\n",
    "print('round:')\n",
    "print(round(1.049, 1))\n",
    "print(round(1.05, 1))\n",
    "\n",
    "print()\n",
    "\n",
    "print('max and min:')\n",
    "print(max(1, 2))\n",
    "print(min(1, 2))"
   ]
  },
  {
   "cell_type": "code",
   "execution_count": 10,
   "id": "4d0d7916",
   "metadata": {},
   "outputs": [
    {
     "name": "stdout",
     "output_type": "stream",
     "text": [
      "randint:\n",
      "0\n",
      "\n",
      "choice:\n",
      "apple\n",
      "\n",
      "shuffle:\n",
      "[2, 1, 3, 6, 7, 4, 8, 5]\n",
      "\n",
      "sample:\n",
      "[49, 21, 43, 12, 39]\n",
      "\n",
      "uniform:\n",
      "0.14883481043394298\n",
      "\n",
      "random:\n",
      "0.9911978929548821\n",
      "\n",
      "seed:\n",
      "0.6229016948897019\n"
     ]
    }
   ],
   "source": [
    "import random\n",
    "\n",
    "print('randint:')\n",
    "print(random.randint(0, 1)) # 包含輸入的最小與最大值\n",
    "\n",
    "print()\n",
    "\n",
    "print('choice:')\n",
    "print(random.choice(['apple', 'banana', 'watermelon']))\n",
    "\n",
    "print()\n",
    "\n",
    "print('shuffle:')\n",
    "nums = [1, 2, 3, 4, 5, 6, 7, 8]\n",
    "random.shuffle(nums)\n",
    "print(nums)\n",
    "\n",
    "print()\n",
    "\n",
    "print('sample:')\n",
    "print(random.sample(range(0, 50), 5))\n",
    "\n",
    "print()\n",
    "\n",
    "print('uniform:')\n",
    "print(random.uniform(0, 1)) # 包含最小值，不包含最大值\n",
    "\n",
    "print()\n",
    "\n",
    "print('random:')\n",
    "print(random.random()) # 0.0 - 1.0\n",
    "\n",
    "print()\n",
    "print('seed:')\n",
    "random.seed(5)\n",
    "print(random.random()) # 使每次隨機結果相同"
   ]
  },
  {
   "cell_type": "code",
   "execution_count": 18,
   "id": "6347583a",
   "metadata": {},
   "outputs": [
    {
     "name": "stdout",
     "output_type": "stream",
     "text": [
      "time:\n",
      "0.001\n",
      "\n",
      "sleep:\n"
     ]
    }
   ],
   "source": [
    "import time\n",
    "\n",
    "print('time:') # 自1970/1/1到現在的秒數，可用來計時\n",
    "start = time.time()\n",
    "time.sleep(10**-3)\n",
    "end = time.time()\n",
    "print(round(end - start, 3))\n",
    "\n",
    "print()\n",
    "\n",
    "print('sleep:')\n",
    "time.sleep(10**-5)"
   ]
  },
  {
   "cell_type": "code",
   "execution_count": 36,
   "id": "43bc391d",
   "metadata": {},
   "outputs": [
    {
     "name": "stdout",
     "output_type": "stream",
     "text": [
      "getced:\n",
      "/Users/s446394/code-workspace/python-workspace/Note\n",
      "\n",
      "abspath, dirname:\n",
      "/Users/s446394/code-workspace/python-workspace/Note\n",
      "/Users/s446394/code-workspace/python-workspace\n",
      "/Users/s446394/code-workspace/python-workspace/Note/python.ipynb\n",
      "/Users/s446394/code-workspace/python-workspace/Note\n",
      "\n",
      "exists:\n",
      "False\n",
      "False\n",
      "\n",
      "isdir, isfile:\n",
      "False\n",
      "False\n",
      "\n",
      "join:\n",
      "/Users/s446394/code-workspace/python-workspace/Note/test/\n"
     ]
    }
   ],
   "source": [
    "import os\n",
    "\n",
    "print('getced:')\n",
    "print(os.getcwd()) # 取得目前工作目錄\n",
    "\n",
    "print()\n",
    "\n",
    "print('abspath, dirname:')\n",
    "print(os.path.abspath('.'))\n",
    "print(os.path.abspath('..'))\n",
    "path = os.path.abspath('python.ipynb')\n",
    "print(path)\n",
    "print(os.path.dirname(path)) # 相當於 ..\n",
    "# print(os.path.abspath(__file__)) 用在 .py 效果與上相同\n",
    "\n",
    "print()\n",
    "\n",
    "print('exists:')\n",
    "print(os.path.exists('file/to/folder'))\n",
    "print(os.path.exists('file/to/filename'))\n",
    "\n",
    "print()\n",
    "\n",
    "print('isdir, isfile:')\n",
    "print(os.path.isdir('path/to/folder'))\n",
    "print(os.path.isfile('path/to/filename'))\n",
    "\n",
    "print()\n",
    "\n",
    "print('join:')\n",
    "BASE_DIR = os.getcwd()\n",
    "print(os.path.join(BASE_DIR, 'test/'))\n",
    "\n",
    "# os.mkdir('path/to/folder')\n",
    "# os.rmdir('path/to/folder')\n",
    "# os.remove('path/to/filename')\n",
    "# os.rename('old_name', 'new_name')\n",
    "# os.path.getsize('path/to/filename')\n",
    "# os.chmod(file, stat.S_IXGRP) (import stat)"
   ]
  },
  {
   "cell_type": "markdown",
   "id": "89b65d1d",
   "metadata": {},
   "source": [
    "## Closure"
   ]
  },
  {
   "cell_type": "code",
   "execution_count": 242,
   "id": "9af1281e",
   "metadata": {},
   "outputs": [
    {
     "name": "stdout",
     "output_type": "stream",
     "text": [
      "20\n"
     ]
    }
   ],
   "source": [
    "def outer():\n",
    "    b = 10 # b 作為環境變數被內部函式 inner 存取\n",
    "    def inner(x):\n",
    "        return 5 * x + b\n",
    "    return inner\n",
    "\n",
    "b = 2\n",
    "f = outer()\n",
    "print(f(b))"
   ]
  },
  {
   "cell_type": "code",
   "execution_count": 243,
   "id": "7489a555",
   "metadata": {},
   "outputs": [
    {
     "name": "stdout",
     "output_type": "stream",
     "text": [
      "5\n",
      "16\n"
     ]
    }
   ],
   "source": [
    "def outer(a, b): # a, b 作為環境變數被內部函式 inner 存取\n",
    "    def inner(x):\n",
    "        return a * x + b\n",
    "    return inner\n",
    "\n",
    "f1 = outer(1, 2)\n",
    "f2 = outer(3, 4)\n",
    "print(f1(3))\n",
    "print(f2(4))"
   ]
  },
  {
   "cell_type": "markdown",
   "id": "c9d78651",
   "metadata": {},
   "source": [
    "## Lambda"
   ]
  },
  {
   "cell_type": "code",
   "execution_count": 110,
   "id": "7b8a0981",
   "metadata": {},
   "outputs": [
    {
     "name": "stdout",
     "output_type": "stream",
     "text": [
      "6\n",
      "['AUDI', 'CHEVROLET', 'RENAULT', 'FORD', 'FIAT', 'VOLKSWAGEN']\n",
      "[2, 4, 6]\n",
      "4\n",
      "6\n"
     ]
    }
   ],
   "source": [
    "add = lambda x: x+1\n",
    "print(add(5))\n",
    "\n",
    "# lambda map\n",
    "car_list = [\"audi\",\"chevrolet\",\"renault\",\"ford\",\"fiat\",\"volkswagen\"]\n",
    "car_list = list(map(lambda x:x.upper(), car_list))\n",
    "print(car_list)\n",
    "\n",
    "# lambda filter\n",
    "nums = [1, 2, 3, 4, 5, 6]\n",
    "nums = list(filter(lambda x: x%2==0, nums))\n",
    "print(nums)\n",
    "\n",
    "# lambda if\n",
    "get_max = lambda x, y: x if x>y else y\n",
    "print(get_max(3, 4))\n",
    "print(get_max(6, 3))"
   ]
  },
  {
   "cell_type": "markdown",
   "id": "38b1e3fe",
   "metadata": {},
   "source": [
    "## Class"
   ]
  },
  {
   "cell_type": "code",
   "execution_count": 85,
   "id": "73c5273f",
   "metadata": {},
   "outputs": [
    {
     "name": "stdout",
     "output_type": "stream",
     "text": [
      "True\n",
      "'Animal' object has no attribute '__food'\n",
      "'Animal' object has no attribute '__say_something'\n",
      "Shit\n"
     ]
    }
   ],
   "source": [
    "# class and instance method\n",
    "\n",
    "class Animal:\n",
    "    # instructor\n",
    "    def __init__(self, food):\n",
    "        # public member\n",
    "        self.blood = True\n",
    "        \n",
    "        # private member\n",
    "        self.__alive = True\n",
    "        self.__food = food\n",
    "    \n",
    "    # private function\n",
    "    def __say_something(self):\n",
    "        ptin('Hello!')\n",
    "    \n",
    "    # setter and getter\n",
    "    def set_food(self, new_food):\n",
    "        self.__food = new_food\n",
    "        \n",
    "    def get_food(self):\n",
    "        print(self.__food)\n",
    "        \n",
    "\n",
    "dog = Animal('Meat')\n",
    "\n",
    "print(dog.blood)\n",
    "\n",
    "try:\n",
    "    print(dog.__food)\n",
    "except Exception as e:\n",
    "    print(e)\n",
    "try:\n",
    "    dog.__say_something\n",
    "except Exception as e:\n",
    "    print(e)\n",
    "\n",
    "dog.set_food('Shit')\n",
    "dog.get_food()"
   ]
  },
  {
   "cell_type": "code",
   "execution_count": 247,
   "id": "d4510736",
   "metadata": {},
   "outputs": [
    {
     "name": "stdout",
     "output_type": "stream",
     "text": [
      "0\n",
      "80\n",
      "0\n",
      "80\n",
      "0\n",
      "80\n"
     ]
    }
   ],
   "source": [
    "# getter and setter\n",
    "\n",
    "# 原有方法\n",
    "class Score():\n",
    "    def __init__(self, score):\n",
    "        self.__score = score\n",
    "        \n",
    "    def getscore(self):\n",
    "        return self.__score\n",
    "    \n",
    "    def setscore(self, score):\n",
    "        self.__score = score\n",
    "\n",
    "stu = Score(0)\n",
    "print(stu.getscore())\n",
    "stu.setscore(80)\n",
    "print(stu.getscore())\n",
    "\n",
    "# 新招 1\n",
    "class Score():\n",
    "    def __init__(self, score):\n",
    "        self.__score = score\n",
    "        \n",
    "    def getscore(self):\n",
    "        return self.__score\n",
    "    \n",
    "    def setscore(self, score):\n",
    "        self.__score = score\n",
    "        \n",
    "    sc = property(getscore, setscore)\n",
    "\n",
    "stu = Score(0)\n",
    "print(stu.sc)\n",
    "stu.sc = 80\n",
    "print(stu.sc)\n",
    "\n",
    "# 新招 2\n",
    "class Score():\n",
    "    def __init__(self, score):\n",
    "        self.__score = score\n",
    "    \n",
    "    @property\n",
    "    def sc(self):\n",
    "        return self.__score\n",
    "    \n",
    "    @sc.setter\n",
    "    def sc(self, score):\n",
    "        self.__score = score\n",
    "\n",
    "stu = Score(0)\n",
    "print(stu.sc)\n",
    "stu.sc = 80\n",
    "print(stu.sc)"
   ]
  },
  {
   "cell_type": "code",
   "execution_count": 5,
   "id": "9b01a2f6",
   "metadata": {},
   "outputs": [
    {
     "name": "stdout",
     "output_type": "stream",
     "text": [
      "pee...\n",
      "pee....................\n",
      "pee..........\n",
      "20\n",
      "18\n",
      "pee..................\n",
      "pee..................\n"
     ]
    }
   ],
   "source": [
    "# static method and class method\n",
    "\n",
    "class Shiba:\n",
    "    # all instance share static attribute\n",
    "    # age 被更動，所有實例的 age 也會被更動\n",
    "    age = 18\n",
    "    def __init__(self, height, weight):\n",
    "        self.height = height\n",
    "        self.weight = weight\n",
    "    \n",
    "    @staticmethod\n",
    "    def pee(length):\n",
    "        print('pee'+'.'*length)\n",
    "    \n",
    "    # staticmethod cannot access self var, you should use classmethod with cls\n",
    "    @classmethod\n",
    "    def clspee(cls):\n",
    "        print('pee'+'.'*cls.age)\n",
    "        print('pee'+'.'*Shiba.age)\n",
    "        \n",
    "# call static method in class level   \n",
    "Shiba.pee(3)\n",
    "Shiba.pee(20)\n",
    "\n",
    "# can also be called by instance\n",
    "black_shiba = Shiba(90, 40)\n",
    "black_shiba.pee(10)\n",
    "\n",
    "# call static attribute in class level\n",
    "black_shiba.age = 20\n",
    "print(black_shiba.age)\n",
    "print(Shiba.age)\n",
    "\n",
    "# call class method in class level\n",
    "Shiba.clspee()"
   ]
  },
  {
   "cell_type": "code",
   "execution_count": 100,
   "id": "b7538fe8",
   "metadata": {},
   "outputs": [
    {
     "name": "stdout",
     "output_type": "stream",
     "text": [
      "I am eating shit\n",
      "I am peeing.....\n",
      "20\n",
      "22\n"
     ]
    }
   ],
   "source": [
    "# abstract method (interface) and inheritance\n",
    "\n",
    "import abc\n",
    "\n",
    "\n",
    "class Animal:\n",
    "    def get_age(self):\n",
    "        print('20')\n",
    "\n",
    "class Dog(metaclass=abc.ABCMeta):\n",
    "    @abc.abstractmethod\n",
    "    def eat_shit(self):\n",
    "        return NotImplemented\n",
    "    \n",
    "    @abc.abstractmethod\n",
    "    def pee(self):\n",
    "        return NotImplemented\n",
    "    \n",
    "\n",
    "# inherit Dog and Animal\n",
    "class Shiba(Dog, Animal):\n",
    "    # override the base class method\n",
    "    def eat_shit(self):\n",
    "        print('I am eating shit')\n",
    "        \n",
    "    def pee(self):\n",
    "        print('I am peeing.....')\n",
    "    \n",
    "    def get_age(self):\n",
    "        # call the base class method\n",
    "        super().get_age()\n",
    "        print('22')\n",
    "    \n",
    "\n",
    "Shiba().eat_shit()\n",
    "\n",
    "Shiba().pee()\n",
    "\n",
    "Shiba().get_age()"
   ]
  },
  {
   "cell_type": "code",
   "execution_count": 255,
   "id": "ff4dbb59",
   "metadata": {},
   "outputs": [
    {
     "name": "stdout",
     "output_type": "stream",
     "text": [
      "Father's information\n",
      "Grandfather's information\n",
      "3000 8000 10000\n",
      "\n",
      "<class '__main__.Grandfather'>\n",
      "<class '__main__.Ivan'>\n",
      "<class 'method'>\n",
      "True\n",
      "True\n"
     ]
    }
   ],
   "source": [
    "# inheritance and super()\n",
    "\n",
    "class Grandfather():\n",
    "    def __init__(self):\n",
    "        self.grandfathermoney = 10000\n",
    "    def get_info1(self):\n",
    "        print('Grandfather\\'s information')\n",
    "        \n",
    "class Father(Grandfather):\n",
    "    def __init__(self):\n",
    "        self.fathermoney = 8000\n",
    "        super().__init__()\n",
    "    def get_info2(self):\n",
    "        print('Father\\'s information')\n",
    "        \n",
    "class Ivan(Father):\n",
    "    def __init__(self):\n",
    "        self.ivanmoney = 3000\n",
    "        super().__init__()\n",
    "    def get_money(self):\n",
    "        print(self.ivanmoney,\n",
    "              self.fathermoney,\n",
    "              self.grandfathermoney)\n",
    "        \n",
    "ivan = Ivan()\n",
    "ivan.get_info2()\n",
    "ivan.get_info1()\n",
    "ivan.get_money()\n",
    "\n",
    "print()\n",
    "\n",
    "# type and isinstance\n",
    "\n",
    "grandfather = Grandfather()\n",
    "ivan = Ivan()\n",
    "print(type(grandfather))\n",
    "print(type(ivan))\n",
    "print(type(ivan.get_money))\n",
    "print(isinstance(ivan, Ivan))\n",
    "print(isinstance(ivan, Grandfather))"
   ]
  },
  {
   "cell_type": "code",
   "execution_count": 12,
   "id": "754f5bdf",
   "metadata": {},
   "outputs": [
    {
     "name": "stdout",
     "output_type": "stream",
     "text": [
      "說明文字\n",
      "----\n",
      "Help on function A in module __main__:\n",
      "\n",
      "A()\n",
      "    說明文字\n",
      "\n"
     ]
    }
   ],
   "source": [
    "## __docstring__\n",
    "\n",
    "def A():\n",
    "    '''說明文字'''\n",
    "    pass\n",
    "\n",
    "print(A.__doc__)\n",
    "print('----')\n",
    "help(A)"
   ]
  },
  {
   "cell_type": "code",
   "execution_count": 7,
   "id": "7556afc7",
   "metadata": {},
   "outputs": [
    {
     "name": "stdout",
     "output_type": "stream",
     "text": [
      "自己執行的主程式，若是被 import 則不執行 main()\n"
     ]
    }
   ],
   "source": [
    "# __name__\n",
    "\n",
    "def A():\n",
    "    pass\n",
    "\n",
    "def main():\n",
    "    pass\n",
    "\n",
    "if __name__ == '__main__':\n",
    "    print('自己執行的主程式，若是被 import 則不執行 main()')"
   ]
  },
  {
   "cell_type": "code",
   "execution_count": 5,
   "id": "2ea464f2",
   "metadata": {},
   "outputs": [
    {
     "name": "stdout",
     "output_type": "stream",
     "text": [
      "Hung\n"
     ]
    }
   ],
   "source": [
    "# __str__()\n",
    "\n",
    "class Name:\n",
    "    def __init__(self, name):\n",
    "        self.name = name\n",
    "    def __str__(self):\n",
    "        return f'{self.name}'\n",
    "\n",
    "a = Name('Hung')\n",
    "print(a)"
   ]
  },
  {
   "cell_type": "code",
   "execution_count": 6,
   "id": "cd1010b2",
   "metadata": {},
   "outputs": [
    {
     "name": "stdout",
     "output_type": "stream",
     "text": [
      "True\n"
     ]
    }
   ],
   "source": [
    "# __eq__()\n",
    "\n",
    "class City():\n",
    "    def __init__(self, name):\n",
    "        self.name = name\n",
    "    \n",
    "    def __eq__(self, city2):\n",
    "        return self.name.upper() == city2.name.upper()\n",
    "\n",
    "one = City('Taipei')\n",
    "two = City('taipei')\n",
    "print(one == two)"
   ]
  },
  {
   "cell_type": "code",
   "execution_count": 4,
   "id": "386f7707",
   "metadata": {},
   "outputs": [
    {
     "name": "stdout",
     "output_type": "stream",
     "text": [
      "0\n",
      "1\n",
      "1\n",
      "2\n",
      "3\n",
      "5\n",
      "8\n",
      "13\n",
      "21\n",
      "34\n",
      "55\n",
      "89\n"
     ]
    }
   ],
   "source": [
    "# __iter__()\n",
    "\n",
    "class Fib():\n",
    "    def __init__(self, max):\n",
    "        self.max = max\n",
    "        \n",
    "    def __iter__(self):\n",
    "        self.a = 0\n",
    "        self.b = 1\n",
    "        return self\n",
    "    \n",
    "    def __next__(self):\n",
    "        fib = self.a\n",
    "        if fib > self.max:\n",
    "            raise StopIteration\n",
    "        self.a, self.b = self.b, self.a + self.b\n",
    "        return fib\n",
    "\n",
    "for i in Fib(100):\n",
    "    print(i)"
   ]
  },
  {
   "cell_type": "markdown",
   "id": "0dbe0159",
   "metadata": {},
   "source": [
    "## Import"
   ]
  },
  {
   "cell_type": "code",
   "execution_count": null,
   "id": "f7c487b8",
   "metadata": {},
   "outputs": [],
   "source": [
    "# from ... import ...\n",
    "from blog.post import Post\n",
    "from blog.about import get_user\n",
    "\n",
    "# import\n",
    "import about\n",
    "print(about.name)\n",
    "print(about.get_user())\n",
    "\n",
    "# 想要 import 的模組不在當前工作目錄時（如要引用的模組在上層）需要自行加所在路徑\n",
    "import sys\n",
    "print(sys.path)\n",
    "sys.path.append(BASE_DIR)"
   ]
  },
  {
   "cell_type": "markdown",
   "id": "0ad179ed",
   "metadata": {},
   "source": [
    "## \\*args and **kwargs"
   ]
  },
  {
   "cell_type": "code",
   "execution_count": 70,
   "id": "32451513",
   "metadata": {},
   "outputs": [
    {
     "name": "stdout",
     "output_type": "stream",
     "text": [
      "<class 'tuple'>\n",
      "(1, 2, 3, 4, 5)\n",
      "15\n"
     ]
    }
   ],
   "source": [
    "# *args\n",
    "\n",
    "# all the parameters will be collected to a tuple (num)\n",
    "def plus(*nums):\n",
    "    res = 0\n",
    "    for i in nums:\n",
    "        res += i\n",
    "    return res\n",
    "\n",
    "# var cannot be named\n",
    "print(plus(1, 2, 3, 4, 5))"
   ]
  },
  {
   "cell_type": "code",
   "execution_count": 75,
   "id": "6155c57b",
   "metadata": {},
   "outputs": [
    {
     "name": "stdout",
     "output_type": "stream",
     "text": [
      "hello # world\n",
      "\n",
      "hello # world\n",
      "\n",
      "{'name': 'Sky', 'attack': 100, 'hp': 500}\n"
     ]
    }
   ],
   "source": [
    "# **kwargs\n",
    "\n",
    "# split dict\n",
    "dt = {'sep': ' # ', 'end': '\\n\\n'}\n",
    "print('hello', 'world', **dt) # same as below\n",
    "print('hello', 'world', sep=' # ', end='\\n\\n')\n",
    "\n",
    "# collect to dict\n",
    "def func(**settings):\n",
    "    print(settings)\n",
    "\n",
    "# var need to be named\n",
    "func(name='Sky', attack=100, hp=500)"
   ]
  },
  {
   "cell_type": "code",
   "execution_count": 80,
   "id": "617cd3a6",
   "metadata": {},
   "outputs": [
    {
     "name": "stdout",
     "output_type": "stream",
     "text": [
      "1\n",
      "(2, 3, 4, 5)\n",
      "6\n",
      "{'g': 7, 'f': 8, 'l': 9}\n"
     ]
    }
   ],
   "source": [
    "# use * and ** at the same time\n",
    "\n",
    "def func(a, *args, kw1, **kwargs):\n",
    "    print(a, args, kw1, kwargs, sep='\\n')\n",
    "    \n",
    "func(1, 2, 3, 4, 5, kw1=6, g=7, f=8, l=9)"
   ]
  },
  {
   "cell_type": "markdown",
   "id": "dd29d3a9",
   "metadata": {},
   "source": [
    "## Decorator\n",
    "- [Python進階技巧 (3) — 神奇又美好的 Decorator](https://medium.com/citycoddee/python%E9%80%B2%E9%9A%8E%E6%8A%80%E5%B7%A7-3-%E7%A5%9E%E5%A5%87%E5%8F%88%E7%BE%8E%E5%A5%BD%E7%9A%84-decorator-%E5%97%B7%E5%97%9A-6559edc87bc0)"
   ]
  },
  {
   "cell_type": "code",
   "execution_count": 18,
   "id": "5fa37d36",
   "metadata": {},
   "outputs": [
    {
     "name": "stdout",
     "output_type": "stream",
     "text": [
      "Now use function dog_bark\n",
      "Bark!!!\n",
      "Now use function cat_miaow\n",
      "Miaow~~~\n"
     ]
    }
   ],
   "source": [
    "def print_func_name(func):\n",
    "    def wrap():\n",
    "        print(f'Now use function {func.__name__}')\n",
    "        func() # call the func()\n",
    "    return wrap # return a function\n",
    "\n",
    "def dog_bark():\n",
    "    print('Bark!!!')\n",
    "    \n",
    "def cat_miaow():\n",
    "    print('Miaow~~~')\n",
    "    \n",
    "\n",
    "# execute the wrap function before dog_bark or cat_miaow\n",
    "# print_func_name(dog_bark) return the 'wrap' function\n",
    "print_func_name(dog_bark)()\n",
    "\n",
    "print_func_name(cat_miaow)()"
   ]
  },
  {
   "cell_type": "code",
   "execution_count": 20,
   "id": "e00329fd",
   "metadata": {},
   "outputs": [
    {
     "name": "stdout",
     "output_type": "stream",
     "text": [
      "Now use function dog_bark\n",
      "Bark!!!\n",
      "Now use function cat_miaow\n",
      "Miaow~~~\n"
     ]
    }
   ],
   "source": [
    "# use syntax candy\n",
    "\n",
    "def print_func_name(func):\n",
    "    def wrap():\n",
    "        print(f'Now use function {func.__name__}')\n",
    "        func()\n",
    "    return wrap\n",
    "\n",
    "@print_func_name\n",
    "def dog_bark():\n",
    "    print('Bark!!!')\n",
    "    \n",
    "@print_func_name\n",
    "def cat_miaow():\n",
    "    print('Miaow~~~')\n",
    "    \n",
    "dog_bark()\n",
    "\n",
    "cat_miaow()"
   ]
  },
  {
   "cell_type": "code",
   "execution_count": 37,
   "id": "7e77fb65",
   "metadata": {},
   "outputs": [
    {
     "name": "stdout",
     "output_type": "stream",
     "text": [
      "Now use function dog_bark\n",
      "Now Unix time is 1658978109\n",
      "Bark!!!\n",
      "\n",
      "<function print_func_name.<locals>.decorator at 0x7f9408052dc0>\n",
      "<function print_func_name.<locals>.decorator.<locals>.wrap at 0x7f9408052af0>\n",
      "Now use function wrap\n",
      "Now Unix time is 1658978109\n",
      "Now use function dog_bark\n",
      "Now Unix time is 1658978109\n",
      "Bark!!!\n"
     ]
    }
   ],
   "source": [
    "# use decorator with parameters\n",
    "\n",
    "from time import time\n",
    "\n",
    "def print_func_name(time):\n",
    "    def decorator(func):\n",
    "        def wrap():\n",
    "            print(f'Now use function {func.__name__}')\n",
    "            print(f'Now Unix time is {int(time)}')\n",
    "            func()\n",
    "        return wrap\n",
    "    return decorator\n",
    "\n",
    "@print_func_name(time())\n",
    "def dog_bark():\n",
    "    print('Bark!!!')\n",
    "    \n",
    "dog_bark()\n",
    "\n",
    "print()\n",
    "print(print_func_name(time()))\n",
    "print(print_func_name(time())(dog_bark))\n",
    "print_func_name(time())(dog_bark)()"
   ]
  },
  {
   "cell_type": "code",
   "execution_count": 61,
   "id": "f2a5f40f",
   "metadata": {},
   "outputs": [
    {
     "name": "stdout",
     "output_type": "stream",
     "text": [
      "first move:  bark!!!\n",
      "bark!!!\n"
     ]
    }
   ],
   "source": [
    "# use the parameters of wrapped function in decorator\n",
    "\n",
    "def print_func_name(func):\n",
    "    def wrap(*args, **kargs):\n",
    "        print('first move: ', args[0])\n",
    "        func(*args, **kargs)\n",
    "    return wrap\n",
    "\n",
    "@print_func_name\n",
    "def dog_bark(move):\n",
    "    print(move)\n",
    "    \n",
    "\n",
    "dog_bark('bark!!!')"
   ]
  },
  {
   "cell_type": "code",
   "execution_count": 245,
   "id": "5b788eb0",
   "metadata": {},
   "outputs": [
    {
     "name": "stdout",
     "output_type": "stream",
     "text": [
      "I can pee very hard......\n",
      "I can jump uselessly QQQ\n",
      "I can pool like a super pooping machine!\n",
      "Bark!!!\n"
     ]
    }
   ],
   "source": [
    "# class decorator\n",
    "\n",
    "class Dog:\n",
    "    def __init__(self, func):\n",
    "        self.talent = func\n",
    "        \n",
    "    def bark(self):\n",
    "        print('Bark!!!')\n",
    "        \n",
    "@Dog\n",
    "def dog_can_pee():\n",
    "    print('I can pee very hard......')\n",
    "    \n",
    "@Dog\n",
    "def dog_can_jump():\n",
    "    print('I can jump uselessly QQQ')\n",
    "    \n",
    "@Dog\n",
    "def dog_can_poo():\n",
    "    print('I can pool like a super pooping machine!')\n",
    "\n",
    "    \n",
    "dog_1 = dog_can_pee\n",
    "dog_1.talent()\n",
    "\n",
    "dog_2 = dog_can_jump\n",
    "dog_2.talent()\n",
    "\n",
    "dog_3 = dog_can_poo\n",
    "dog_3.talent()\n",
    "dog_3.bark()"
   ]
  }
 ],
 "metadata": {
  "kernelspec": {
   "display_name": "Python 3",
   "language": "python",
   "name": "python3"
  },
  "language_info": {
   "codemirror_mode": {
    "name": "ipython",
    "version": 3
   },
   "file_extension": ".py",
   "mimetype": "text/x-python",
   "name": "python",
   "nbconvert_exporter": "python",
   "pygments_lexer": "ipython3",
   "version": "3.8.8"
  },
  "toc": {
   "base_numbering": 1,
   "nav_menu": {},
   "number_sections": true,
   "sideBar": true,
   "skip_h1_title": false,
   "title_cell": "Table of Contents",
   "title_sidebar": "Contents",
   "toc_cell": false,
   "toc_position": {
    "height": "calc(100% - 180px)",
    "left": "10px",
    "top": "150px",
    "width": "384px"
   },
   "toc_section_display": true,
   "toc_window_display": true
  }
 },
 "nbformat": 4,
 "nbformat_minor": 5
}
